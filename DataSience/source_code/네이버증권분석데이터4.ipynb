{
 "cells": [
  {
   "cell_type": "code",
   "execution_count": 1,
   "metadata": {},
   "outputs": [],
   "source": [
    "# 인터넷 연결\n",
    "# trml 문서 받아와서 분석\n",
    "\n",
    "import requests\n",
    "from bs4 import BeautifulSoup # bs4 안에 BeautifulSoup만 임포트"
   ]
  },
  {
   "cell_type": "code",
   "execution_count": 40,
   "metadata": {},
   "outputs": [],
   "source": [
    "def get_price(company_code) : #함수 정의\n",
    "    url = \"https://finance.naver.com/item/main.nhn?code=\"+company_code # =\" 사이에 공백이 있으면 안된다.\n",
    "    print(\"url: \" , url)\n",
    "    \n",
    "    result = requests.get(url)\n",
    "    #print(\"result: \" , result)\n",
    "    \n",
    "    bs_obj = BeautifulSoup(result.content, \"html.parser\")\n",
    "    #print(\"html: \",bs_obj) \n",
    "    \n",
    "    no_today = bs_obj.find(\"p\",{\"class\":\"no_today\"})\n",
    "    blind_now = no_today.find(\"span\",{\"class\":\"blind\"})\n",
    "    \n",
    "    \n",
    "    all_td = bs_obj.find(\"td\",{\"class\":\"first\"})\n",
    "    first = all_td.find(\"span\",{\"class\":\"blind\"})\n",
    "    \n",
    "    print(company_code , \"의 시가: \" , blind_now.text,\", 전일가 : \",first.text)\n",
    "    "
   ]
  },
  {
   "cell_type": "code",
   "execution_count": 31,
   "metadata": {},
   "outputs": [
    {
     "name": "stdout",
     "output_type": "stream",
     "text": [
      "url:  https://finance.naver.com/item/main.nhn?code=005930\n",
      "result:  <Response [200]>\n",
      "005930 의 최종 결과 값 :  43,800\n"
     ]
    }
   ],
   "source": [
    "get_price(\"005930\")"
   ]
  },
  {
   "cell_type": "code",
   "execution_count": 32,
   "metadata": {},
   "outputs": [
    {
     "name": "stdout",
     "output_type": "stream",
     "text": [
      "url:  https://finance.naver.com/item/main.nhn?code=035420\n",
      "result:  <Response [200]>\n",
      "035420 의 최종 결과 값 :  133,000\n"
     ]
    }
   ],
   "source": [
    "get_price(\"035420\")"
   ]
  },
  {
   "cell_type": "code",
   "execution_count": 33,
   "metadata": {},
   "outputs": [
    {
     "name": "stdout",
     "output_type": "stream",
     "text": [
      "url:  https://finance.naver.com/item/main.nhn?code=068270\n",
      "result:  <Response [200]>\n",
      "068270 의 최종 결과 값 :  206,000\n"
     ]
    }
   ],
   "source": [
    "get_price(\"068270\")"
   ]
  },
  {
   "cell_type": "code",
   "execution_count": 34,
   "metadata": {},
   "outputs": [],
   "source": [
    "company_codes = [\"005930\",\"035420\",\"068270\",\"122870\",\"030200\"]"
   ]
  },
  {
   "cell_type": "code",
   "execution_count": 35,
   "metadata": {},
   "outputs": [
    {
     "data": {
      "text/plain": [
       "['005930', '035420', '068270', '122870', '030200']"
      ]
     },
     "execution_count": 35,
     "metadata": {},
     "output_type": "execute_result"
    }
   ],
   "source": [
    "company_codes"
   ]
  },
  {
   "cell_type": "code",
   "execution_count": 36,
   "metadata": {},
   "outputs": [
    {
     "name": "stdout",
     "output_type": "stream",
     "text": [
      "005930\n",
      "035420\n",
      "068270\n",
      "122870\n",
      "030200\n"
     ]
    }
   ],
   "source": [
    "for code in company_codes:\n",
    "    print(code)"
   ]
  },
  {
   "cell_type": "code",
   "execution_count": 37,
   "metadata": {},
   "outputs": [
    {
     "name": "stdout",
     "output_type": "stream",
     "text": [
      "url:  https://finance.naver.com/item/main.nhn?code=005930\n",
      "result:  <Response [200]>\n",
      "005930 의 최종 결과 값 :  43,800\n",
      "url:  https://finance.naver.com/item/main.nhn?code=035420\n",
      "result:  <Response [200]>\n",
      "035420 의 최종 결과 값 :  133,000\n",
      "url:  https://finance.naver.com/item/main.nhn?code=068270\n",
      "result:  <Response [200]>\n",
      "068270 의 최종 결과 값 :  206,000\n",
      "url:  https://finance.naver.com/item/main.nhn?code=122870\n",
      "result:  <Response [200]>\n",
      "122870 의 최종 결과 값 :  43,250\n",
      "url:  https://finance.naver.com/item/main.nhn?code=030200\n",
      "result:  <Response [200]>\n",
      "030200 의 최종 결과 값 :  27,750\n"
     ]
    }
   ],
   "source": [
    "for code in company_codes:\n",
    "    get_price(code)"
   ]
  },
  {
   "cell_type": "code",
   "execution_count": 38,
   "metadata": {},
   "outputs": [],
   "source": [
    "company_list=['삼성전자','NAVER','셀트리온','와이지엔터테인먼트','KT']"
   ]
  },
  {
   "cell_type": "code",
   "execution_count": 41,
   "metadata": {},
   "outputs": [
    {
     "name": "stdout",
     "output_type": "stream",
     "text": [
      "삼성전자\n",
      "url:  https://finance.naver.com/item/main.nhn?code=005930\n",
      "005930 의 시가:  43,800 , 전일가 :  44,450\n",
      "NAVER\n",
      "url:  https://finance.naver.com/item/main.nhn?code=035420\n",
      "035420 의 시가:  133,000 , 전일가 :  138,500\n",
      "셀트리온\n",
      "url:  https://finance.naver.com/item/main.nhn?code=068270\n",
      "068270 의 시가:  206,000 , 전일가 :  207,000\n",
      "와이지엔터테인먼트\n",
      "url:  https://finance.naver.com/item/main.nhn?code=122870\n",
      "122870 의 시가:  43,250 , 전일가 :  40,750\n",
      "KT\n",
      "url:  https://finance.naver.com/item/main.nhn?code=030200\n",
      "030200 의 시가:  27,750 , 전일가 :  27,900\n"
     ]
    }
   ],
   "source": [
    "i = 0\n",
    "for code in company_codes:\n",
    "    print(company_list[i])\n",
    "    get_price(code)\n",
    "    i = i+1"
   ]
  },
  {
   "cell_type": "code",
   "execution_count": null,
   "metadata": {},
   "outputs": [],
   "source": []
  },
  {
   "cell_type": "code",
   "execution_count": null,
   "metadata": {},
   "outputs": [],
   "source": []
  }
 ],
 "metadata": {
  "kernelspec": {
   "display_name": "Python 3",
   "language": "python",
   "name": "python3"
  },
  "language_info": {
   "codemirror_mode": {
    "name": "ipython",
    "version": 3
   },
   "file_extension": ".py",
   "mimetype": "text/x-python",
   "name": "python",
   "nbconvert_exporter": "python",
   "pygments_lexer": "ipython3",
   "version": "3.7.0"
  }
 },
 "nbformat": 4,
 "nbformat_minor": 2
}
