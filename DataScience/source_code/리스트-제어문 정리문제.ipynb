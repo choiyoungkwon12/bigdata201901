{
 "cells": [
  {
   "cell_type": "code",
   "execution_count": 27,
   "metadata": {},
   "outputs": [],
   "source": [
    "# ctrl + / => 주석\n",
    "# 1.리스트에 hera@naver.com\n",
    "# 2.입력을 2개 받아서\n",
    "#   gardenpro@daum.net\n",
    "#   korea@korea.co.kr\n",
    "# 3.com => 닷컴 회사이군요\n",
    "#  .net => 닷넷 회사이군요\n",
    "#   kr => 한국에 있는 회사군요.\n",
    "#   아니라면 => 잘모르겠어요."
   ]
  },
  {
   "cell_type": "code",
   "execution_count": 28,
   "metadata": {},
   "outputs": [],
   "source": [
    "email = [\"hera@naver.com\"]"
   ]
  },
  {
   "cell_type": "code",
   "execution_count": 29,
   "metadata": {},
   "outputs": [
    {
     "data": {
      "text/plain": [
       "['hera@naver.com']"
      ]
     },
     "execution_count": 29,
     "metadata": {},
     "output_type": "execute_result"
    }
   ],
   "source": [
    "email"
   ]
  },
  {
   "cell_type": "code",
   "execution_count": 30,
   "metadata": {},
   "outputs": [],
   "source": [
    "email2 = [] #비어있는 리스트 먼저 만들어놓아야한다."
   ]
  },
  {
   "cell_type": "code",
   "execution_count": 31,
   "metadata": {},
   "outputs": [
    {
     "name": "stdout",
     "output_type": "stream",
     "text": [
      "이메일 입력1 >>gardenpro@daum.net\n"
     ]
    }
   ],
   "source": [
    "data1 = input(\"이메일 입력1 >>\")"
   ]
  },
  {
   "cell_type": "code",
   "execution_count": 32,
   "metadata": {},
   "outputs": [
    {
     "name": "stdout",
     "output_type": "stream",
     "text": [
      "이메일 입력2 >> korea@korea.co.kr\n"
     ]
    }
   ],
   "source": [
    "data2 = input(\"이메일 입력2 >>\")"
   ]
  },
  {
   "cell_type": "code",
   "execution_count": 33,
   "metadata": {},
   "outputs": [],
   "source": [
    "email.append(data1)"
   ]
  },
  {
   "cell_type": "code",
   "execution_count": 34,
   "metadata": {},
   "outputs": [],
   "source": [
    "email.append(data2)"
   ]
  },
  {
   "cell_type": "code",
   "execution_count": 35,
   "metadata": {},
   "outputs": [
    {
     "data": {
      "text/plain": [
       "3"
      ]
     },
     "execution_count": 35,
     "metadata": {},
     "output_type": "execute_result"
    }
   ],
   "source": [
    "len(email)"
   ]
  },
  {
   "cell_type": "code",
   "execution_count": 36,
   "metadata": {},
   "outputs": [
    {
     "data": {
      "text/plain": [
       "['hera@naver.com', 'gardenpro@daum.net', ' korea@korea.co.kr']"
      ]
     },
     "execution_count": 36,
     "metadata": {},
     "output_type": "execute_result"
    }
   ],
   "source": [
    "email"
   ]
  },
  {
   "cell_type": "code",
   "execution_count": 37,
   "metadata": {},
   "outputs": [
    {
     "name": "stdout",
     "output_type": "stream",
     "text": [
      "hera@naver.com 는 닷컴회사이군요.\n",
      "gardenpro@daum.net 는 닷넷회사이군요.\n",
      " korea@korea.co.kr 는 한국에 있는 회사이군요.\n"
     ]
    }
   ],
   "source": [
    "for e in email:\n",
    "    if(e.endswith(\".com\")):\n",
    "        print(e , \"는 닷컴회사이군요.\")\n",
    "    elif(e.endswith(\".net\")):\n",
    "        print(e, \"는 닷넷회사이군요.\")\n",
    "    elif(e.endswith(\"kr\")):\n",
    "        print(e, \"는 한국에 있는 회사이군요.\")\n",
    "    else :\n",
    "        print(e, \"는 잘 모르겠어요.\")\n",
    "        "
   ]
  },
  {
   "cell_type": "code",
   "execution_count": null,
   "metadata": {},
   "outputs": [],
   "source": []
  }
 ],
 "metadata": {
  "kernelspec": {
   "display_name": "Python 3",
   "language": "python",
   "name": "python3"
  },
  "language_info": {
   "codemirror_mode": {
    "name": "ipython",
    "version": 3
   },
   "file_extension": ".py",
   "mimetype": "text/x-python",
   "name": "python",
   "nbconvert_exporter": "python",
   "pygments_lexer": "ipython3",
   "version": "3.7.0"
  }
 },
 "nbformat": 4,
 "nbformat_minor": 2
}
